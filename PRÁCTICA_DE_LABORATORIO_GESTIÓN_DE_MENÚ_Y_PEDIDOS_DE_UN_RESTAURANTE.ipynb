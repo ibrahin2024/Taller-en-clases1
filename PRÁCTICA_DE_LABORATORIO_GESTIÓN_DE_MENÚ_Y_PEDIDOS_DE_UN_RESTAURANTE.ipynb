{
  "nbformat": 4,
  "nbformat_minor": 0,
  "metadata": {
    "colab": {
      "provenance": [],
      "authorship_tag": "ABX9TyPxY5AerxOBuoCeWRM9EjE7",
      "include_colab_link": true
    },
    "kernelspec": {
      "name": "python3",
      "display_name": "Python 3"
    },
    "language_info": {
      "name": "python"
    }
  },
  "cells": [
    {
      "cell_type": "markdown",
      "metadata": {
        "id": "view-in-github",
        "colab_type": "text"
      },
      "source": [
        "<a href=\"https://colab.research.google.com/github/ibrahin2024/Taller-en-clases1/blob/main/PR%C3%81CTICA_DE_LABORATORIO_GESTI%C3%93N_DE_MEN%C3%9A_Y_PEDIDOS_DE_UN_RESTAURANTE.ipynb\" target=\"_parent\"><img src=\"https://colab.research.google.com/assets/colab-badge.svg\" alt=\"Open In Colab\"/></a>"
      ]
    },
    {
      "cell_type": "markdown",
      "source": [
        "# Parte 1: Definición del Menú del Restaurante"
      ],
      "metadata": {
        "id": "hpSnnNg67qDM"
      }
    },
    {
      "cell_type": "code",
      "source": [
        "#Definición del diccionario menu_restaurante\n",
        "\n",
        "menu_restaurante = {\n",
        "    \"encocado de gallina\": {\n",
        "        \"precio\": 3.50,\n",
        "        \"ingredientes\": (\"gallina\", \"leche de coco\", \"pimiento\", \"ajo\", \"culantro\")\n",
        "    },\n",
        "    \"calamar frito\": {\n",
        "        \"precio\": 3.50,\n",
        "        \"ingredientes\": (\"calamar\", \"harina\", \"limón\", \"sal\", \"aceite\")\n",
        "    },\n",
        "    \"pollo lleno\": {\n",
        "        \"precio\": 4.00,\n",
        "        \"ingredientes\": (\"pollo\", \"arroz\", \"verduras\", \"huevo\", \"salsa de soya\")\n",
        "    },\n",
        "    \"camarones apanados\": {\n",
        "        \"precio\": 7.00,\n",
        "        \"ingredientes\": (\"camarón\", \"pan rallado\", \"huevo\", \"harina\", \"limón\")\n",
        "    },\n",
        "    \"cuy asado\": {\n",
        "        \"precio\": 3.25,\n",
        "        \"ingredientes\": (\"cuy\", \"ajo\", \"comino\", \"pimienta\", \"papas\")\n",
        "    },\n",
        "    \"ceviche mixto\": {\n",
        "        \"precio\": 5.00,\n",
        "        \"ingredientes\": (\"pescado\", \"camarón\", \"limón\", \"cebolla\", \"cilantro\")\n",
        "    },\n",
        "    \"arroz marinero\": {\n",
        "        \"precio\": 4.00,\n",
        "        \"ingredientes\": (\"arroz\", \"mariscos\", \"pimiento\", \"ajo\", \"cebolla\")\n",
        "    }\n",
        "}\n"
      ],
      "metadata": {
        "id": "qW6Hr2MA7cfg"
      },
      "execution_count": 16,
      "outputs": []
    },
    {
      "cell_type": "markdown",
      "source": [
        "# Menu_restaurante"
      ],
      "metadata": {
        "id": "DSDbWMCU7v6s"
      }
    },
    {
      "cell_type": "code",
      "source": [
        "#Función para mostrar el menú de forma organizada\n",
        "\n",
        "def mostrar_menu(menu):\n",
        "    print(\"MENÚ DEL RESTAURANTE\\n\")\n",
        "    for nombre_plato, detalles in menu.items():\n",
        "        print(f\" {nombre_plato.title()}\")\n",
        "        print(f\" Precio: ${detalles['precio']:.2f}\")\n",
        "        print(f\" Ingredientes: {', '.join(detalles['ingredientes'])}\")\n",
        "        print(\"-\" * 40)\n"
      ],
      "metadata": {
        "id": "dYQXQQtm_caM"
      },
      "execution_count": 17,
      "outputs": []
    },
    {
      "cell_type": "markdown",
      "source": [
        "#Mostrar el Menú formato legible."
      ],
      "metadata": {
        "id": "5jvVnuYU96Ww"
      }
    },
    {
      "cell_type": "code",
      "source": [
        "#Función para mostrar el menú de forma organizada\n",
        "\n",
        "def mostrar_menu(menu):\n",
        "    print(\" MENÚ DEL RESTAURANTE\\n\")\n",
        "    for nombre_plato, detalles in menu.items():\n",
        "        print(f\" {nombre_plato.title()}\")\n",
        "        print(f\"    Precio: ${detalles['precio']:.2f}\")\n",
        "        print(f\"    Ingredientes: {', '.join(detalles['ingredientes'])}\")\n",
        "        print(\"-\" * 40)\n"
      ],
      "metadata": {
        "id": "LkYBcG9X99g8"
      },
      "execution_count": 18,
      "outputs": []
    },
    {
      "cell_type": "code",
      "source": [
        "#Mostrar el menú definido anteriormente usando la función\n",
        "\n",
        "mostrar_menu(menu_restaurante)\n"
      ],
      "metadata": {
        "colab": {
          "base_uri": "https://localhost:8080/"
        },
        "id": "QOlkFuGX-JBj",
        "outputId": "1bda4a86-9705-408c-9daf-7ab8da614553"
      },
      "execution_count": 19,
      "outputs": [
        {
          "output_type": "stream",
          "name": "stdout",
          "text": [
            " MENÚ DEL RESTAURANTE\n",
            "\n",
            " Encocado De Gallina\n",
            "    Precio: $3.50\n",
            "    Ingredientes: gallina, leche de coco, pimiento, ajo, culantro\n",
            "----------------------------------------\n",
            " Calamar Frito\n",
            "    Precio: $3.50\n",
            "    Ingredientes: calamar, harina, limón, sal, aceite\n",
            "----------------------------------------\n",
            " Pollo Lleno\n",
            "    Precio: $4.00\n",
            "    Ingredientes: pollo, arroz, verduras, huevo, salsa de soya\n",
            "----------------------------------------\n",
            " Camarones Apanados\n",
            "    Precio: $7.00\n",
            "    Ingredientes: camarón, pan rallado, huevo, harina, limón\n",
            "----------------------------------------\n",
            " Cuy Asado\n",
            "    Precio: $3.25\n",
            "    Ingredientes: cuy, ajo, comino, pimienta, papas\n",
            "----------------------------------------\n",
            " Ceviche Mixto\n",
            "    Precio: $5.00\n",
            "    Ingredientes: pescado, camarón, limón, cebolla, cilantro\n",
            "----------------------------------------\n",
            " Arroz Marinero\n",
            "    Precio: $4.00\n",
            "    Ingredientes: arroz, mariscos, pimiento, ajo, cebolla\n",
            "----------------------------------------\n"
          ]
        }
      ]
    },
    {
      "cell_type": "markdown",
      "source": [
        "# Parte 2: Simulación de Pedidos del Cliente\n"
      ],
      "metadata": {
        "id": "OzSUjXFZ-2Y0"
      }
    },
    {
      "cell_type": "code",
      "source": [
        "#Inicialización del pedido del cliente\n",
        "\n",
        "pedido_actual = []       #Lista de platos seleccionados por el cliente\n",
        "total_cuenta = 0.0       #Total a pagar, se actualizará con cada pedido\n",
        "\n",
        "#Mostrar estado inicial\n",
        "print(\"Pedido iniciado.\")\n",
        "print(\"Platos en pedido_actual:\", pedido_actual)\n",
        "print(\"Total de la cuenta: $\", total_cuenta)\n"
      ],
      "metadata": {
        "colab": {
          "base_uri": "https://localhost:8080/"
        },
        "id": "NA5NsvEY_p58",
        "outputId": "4584c7d7-94e9-408d-e785-7a9651016b30"
      },
      "execution_count": 20,
      "outputs": [
        {
          "output_type": "stream",
          "name": "stdout",
          "text": [
            "Pedido iniciado.\n",
            "Platos en pedido_actual: []\n",
            "Total de la cuenta: $ 0.0\n"
          ]
        }
      ]
    },
    {
      "cell_type": "markdown",
      "source": [
        "# Entrada de Platos del Cliente"
      ],
      "metadata": {
        "id": "elvheZrxANNt"
      }
    },
    {
      "cell_type": "code",
      "source": [
        "#Simulación del pedido del cliente\n",
        "\n",
        "while True:\n",
        "    plato = input(\" Ingresa el nombre del plato (o escribe 'fin' para terminar): \").lower()\n",
        "\n",
        "    if plato == 'fin':\n",
        "        print(\"\\n✅ Pedido finalizado.\\n\")\n",
        "        break\n",
        "    elif plato in menu_restaurante:\n",
        "        pedido_actual.append(plato)\n",
        "        total_cuenta += menu_restaurante[plato]['precio']\n",
        "        print(f\" ¡'{plato.title()}' añadido al pedido!\\n\")\n",
        "    else:\n",
        "        print(\"❌ Lo sentimos, ese plato no está en el menú.\\n\")\n"
      ],
      "metadata": {
        "colab": {
          "base_uri": "https://localhost:8080/"
        },
        "id": "hH5NSZ59AR5T",
        "outputId": "42071e45-11c0-4d95-85d0-5d35a6a97488"
      },
      "execution_count": 21,
      "outputs": [
        {
          "output_type": "stream",
          "name": "stdout",
          "text": [
            " Ingresa el nombre del plato (o escribe 'fin' para terminar): calamar frito\n",
            " ¡'Calamar Frito' añadido al pedido!\n",
            "\n",
            " Ingresa el nombre del plato (o escribe 'fin' para terminar): pollo de seco\n",
            "❌ Lo sentimos, ese plato no está en el menú.\n",
            "\n",
            " Ingresa el nombre del plato (o escribe 'fin' para terminar): ceviche mixto\n",
            " ¡'Ceviche Mixto' añadido al pedido!\n",
            "\n",
            " Ingresa el nombre del plato (o escribe 'fin' para terminar): cuy asado\n",
            " ¡'Cuy Asado' añadido al pedido!\n",
            "\n",
            " Ingresa el nombre del plato (o escribe 'fin' para terminar): fin\n",
            "\n",
            "✅ Pedido finalizado.\n",
            "\n"
          ]
        }
      ]
    },
    {
      "cell_type": "code",
      "source": [
        "#Resumen del pedido final\n",
        "\n",
        "print(\"Pedido completo:\")\n",
        "for plato in pedido_actual:\n",
        "    print(f\" {plato.title()} - ${menu_restaurante[plato]['precio']:.2f}\")\n",
        "\n",
        "print(f\"\\nTotal de la cuenta: ${total_cuenta:.2f}\")\n"
      ],
      "metadata": {
        "colab": {
          "base_uri": "https://localhost:8080/"
        },
        "id": "Kkc096P9AUWc",
        "outputId": "dfb1a5db-922e-4d36-f70c-f0b4c1d54d81"
      },
      "execution_count": 22,
      "outputs": [
        {
          "output_type": "stream",
          "name": "stdout",
          "text": [
            "Pedido completo:\n",
            " Calamar Frito - $3.50\n",
            " Ceviche Mixto - $5.00\n",
            " Cuy Asado - $3.25\n",
            "\n",
            "Total de la cuenta: $11.75\n"
          ]
        }
      ]
    },
    {
      "cell_type": "code",
      "source": [
        "#Mostrar resumen del pedido final del cliente\n",
        "\n",
        "if pedido_actual:\n",
        "    print(\"Resumen del Pedido:\\n\")\n",
        "    for i, plato in enumerate(pedido_actual, 1):\n",
        "        precio = menu_restaurante[plato]['precio']\n",
        "        print(f\"{i}. {plato.title()} - ${precio:.2f}\")\n",
        "\n",
        "    print(f\"\\nTotal de la cuenta: ${total_cuenta:.2f}\")\n",
        "else:\n",
        "    print(\"No se realizaron pedidos.\")\n"
      ],
      "metadata": {
        "colab": {
          "base_uri": "https://localhost:8080/"
        },
        "id": "3FnhfadGB0ss",
        "outputId": "6c7694f2-441b-4629-e9b6-188cf6e2f65c"
      },
      "execution_count": 23,
      "outputs": [
        {
          "output_type": "stream",
          "name": "stdout",
          "text": [
            "Resumen del Pedido:\n",
            "\n",
            "1. Calamar Frito - $3.50\n",
            "2. Ceviche Mixto - $5.00\n",
            "3. Cuy Asado - $3.25\n",
            "\n",
            "Total de la cuenta: $11.75\n"
          ]
        }
      ]
    },
    {
      "cell_type": "markdown",
      "source": [
        "# Parte 3: Manipulación Avanzada del Menú\n"
      ],
      "metadata": {
        "id": "59tlvCY3fY5O"
      }
    },
    {
      "cell_type": "markdown",
      "source": [
        "# Modificar un Precio"
      ],
      "metadata": {
        "id": "Y8o6KzX0gQLP"
      }
    },
    {
      "cell_type": "code",
      "source": [
        "#Aplicar un 10% de descuento al plato \"cuy asado\"\n",
        "\n",
        "plato_descuento = \"cuy asado\"\n",
        "descuento = 0.10\n",
        "\n",
        "#Precio original\n",
        "precio_original = menu_restaurante[plato_descuento]['precio']\n",
        "\n",
        "#Nuevo precio con descuento\n",
        "menu_restaurante[plato_descuento]['precio'] = round(precio_original * (1 - descuento), 2)\n",
        "\n",
        "print(f\"Se aplicó un 10% de descuento al '{plato_descuento.title()}'.\")\n",
        "print(f\"Precio anterior: ${precio_original:.2f}\")\n",
        "print(f\"Nuevo precio: ${menu_restaurante[plato_descuento]['precio']:.2f}\\n\")\n",
        "\n",
        "#Mostrar el menú actualizado\n",
        "mostrar_menu(menu_restaurante)\n"
      ],
      "metadata": {
        "colab": {
          "base_uri": "https://localhost:8080/"
        },
        "id": "zcPg1_lXfeow",
        "outputId": "a4c2f371-812b-489e-9f67-bf165efed057"
      },
      "execution_count": 24,
      "outputs": [
        {
          "output_type": "stream",
          "name": "stdout",
          "text": [
            "Se aplicó un 10% de descuento al 'Cuy Asado'.\n",
            "Precio anterior: $3.25\n",
            "Nuevo precio: $2.93\n",
            "\n",
            " MENÚ DEL RESTAURANTE\n",
            "\n",
            " Encocado De Gallina\n",
            "    Precio: $3.50\n",
            "    Ingredientes: gallina, leche de coco, pimiento, ajo, culantro\n",
            "----------------------------------------\n",
            " Calamar Frito\n",
            "    Precio: $3.50\n",
            "    Ingredientes: calamar, harina, limón, sal, aceite\n",
            "----------------------------------------\n",
            " Pollo Lleno\n",
            "    Precio: $4.00\n",
            "    Ingredientes: pollo, arroz, verduras, huevo, salsa de soya\n",
            "----------------------------------------\n",
            " Camarones Apanados\n",
            "    Precio: $7.00\n",
            "    Ingredientes: camarón, pan rallado, huevo, harina, limón\n",
            "----------------------------------------\n",
            " Cuy Asado\n",
            "    Precio: $2.93\n",
            "    Ingredientes: cuy, ajo, comino, pimienta, papas\n",
            "----------------------------------------\n",
            " Ceviche Mixto\n",
            "    Precio: $5.00\n",
            "    Ingredientes: pescado, camarón, limón, cebolla, cilantro\n",
            "----------------------------------------\n",
            " Arroz Marinero\n",
            "    Precio: $4.00\n",
            "    Ingredientes: arroz, mariscos, pimiento, ajo, cebolla\n",
            "----------------------------------------\n"
          ]
        }
      ]
    },
    {
      "cell_type": "markdown",
      "source": [
        "#Añadir un Nuevo Plato Temporal"
      ],
      "metadata": {
        "id": "H41BxQeggjpW"
      }
    },
    {
      "cell_type": "code",
      "source": [
        "#Añadir un nuevo plato temporal: \"Plato del Día\"\n",
        "\n",
        "menu_restaurante[\"pescado al ajillo\"] = {\n",
        "    \"precio\": 11.75,\n",
        "    \"ingredientes\": (\"pescado\", \"ajo\", \"aceite de oliva\", \"perejil\", \"limón\")\n",
        "}\n",
        "\n",
        "print(\"✅ 'Pescado al Ajillo' añadido como Plato del Día.\\n\")\n",
        "\n",
        "#Mostrar el menú actualizado incluyendo el nuevo plato\n",
        "mostrar_menu(menu_restaurante)\n"
      ],
      "metadata": {
        "colab": {
          "base_uri": "https://localhost:8080/"
        },
        "id": "g9567EaUgM5I",
        "outputId": "2aac9f3f-c31d-4be0-9517-36588260390f"
      },
      "execution_count": 25,
      "outputs": [
        {
          "output_type": "stream",
          "name": "stdout",
          "text": [
            "✅ 'Pescado al Ajillo' añadido como Plato del Día.\n",
            "\n",
            " MENÚ DEL RESTAURANTE\n",
            "\n",
            " Encocado De Gallina\n",
            "    Precio: $3.50\n",
            "    Ingredientes: gallina, leche de coco, pimiento, ajo, culantro\n",
            "----------------------------------------\n",
            " Calamar Frito\n",
            "    Precio: $3.50\n",
            "    Ingredientes: calamar, harina, limón, sal, aceite\n",
            "----------------------------------------\n",
            " Pollo Lleno\n",
            "    Precio: $4.00\n",
            "    Ingredientes: pollo, arroz, verduras, huevo, salsa de soya\n",
            "----------------------------------------\n",
            " Camarones Apanados\n",
            "    Precio: $7.00\n",
            "    Ingredientes: camarón, pan rallado, huevo, harina, limón\n",
            "----------------------------------------\n",
            " Cuy Asado\n",
            "    Precio: $2.93\n",
            "    Ingredientes: cuy, ajo, comino, pimienta, papas\n",
            "----------------------------------------\n",
            " Ceviche Mixto\n",
            "    Precio: $5.00\n",
            "    Ingredientes: pescado, camarón, limón, cebolla, cilantro\n",
            "----------------------------------------\n",
            " Arroz Marinero\n",
            "    Precio: $4.00\n",
            "    Ingredientes: arroz, mariscos, pimiento, ajo, cebolla\n",
            "----------------------------------------\n",
            " Pescado Al Ajillo\n",
            "    Precio: $11.75\n",
            "    Ingredientes: pescado, ajo, aceite de oliva, perejil, limón\n",
            "----------------------------------------\n"
          ]
        }
      ]
    },
    {
      "cell_type": "markdown",
      "source": [
        "# \"Slices\" del Menú"
      ],
      "metadata": {
        "id": "Wv0Sdx3Xg4rd"
      }
    },
    {
      "cell_type": "code",
      "source": [
        "#Crear una lista con algunos platos especiales del día\n",
        "\n",
        "especiales_del_dia = [\"ceviche mixto\", \"pescado al ajillo\", \"arroz marinero\"]\n",
        "\n",
        "print(\"Especiales del Día:\\n\")\n",
        "\n",
        "for plato in especiales_del_dia:\n",
        "    if plato in menu_restaurante:\n",
        "        datos = menu_restaurante[plato]\n",
        "        print(f\"{plato.title()} - ${datos['precio']:.2f}\")\n",
        "        print(f\"   Ingredientes: {', '.join(datos['ingredientes'])}\")\n",
        "        print(\"-\" * 40)\n"
      ],
      "metadata": {
        "colab": {
          "base_uri": "https://localhost:8080/"
        },
        "id": "sRYfItCMg9ul",
        "outputId": "c4e17617-2680-449c-bcec-d8c6407869be"
      },
      "execution_count": 26,
      "outputs": [
        {
          "output_type": "stream",
          "name": "stdout",
          "text": [
            "Especiales del Día:\n",
            "\n",
            "Ceviche Mixto - $5.00\n",
            "   Ingredientes: pescado, camarón, limón, cebolla, cilantro\n",
            "----------------------------------------\n",
            "Pescado Al Ajillo - $11.75\n",
            "   Ingredientes: pescado, ajo, aceite de oliva, perejil, limón\n",
            "----------------------------------------\n",
            "Arroz Marinero - $4.00\n",
            "   Ingredientes: arroz, mariscos, pimiento, ajo, cebolla\n",
            "----------------------------------------\n"
          ]
        }
      ]
    },
    {
      "cell_type": "markdown",
      "source": [
        "\n",
        "#Parte 4: Exploración de Errores y Depuración"
      ],
      "metadata": {
        "id": "d9YkCz5ihGTK"
      }
    },
    {
      "cell_type": "markdown",
      "source": [
        "# Error de Índice (IndexError)"
      ],
      "metadata": {
        "id": "2a7EFvoChM_e"
      }
    },
    {
      "cell_type": "code",
      "source": [
        "#IndexError: Intentar acceder a un índice que no existe\n",
        "\n",
        "print(\"Contenido actual de pedido_actual:\", pedido_actual)\n",
        "\n",
        "#Esta línea generará un IndexError si la lista tiene menos de 5 elementos\n",
        "#print(pedido_actual[5])  # ← DESCOMENTA para probar el error\n",
        "\n",
        "#Comentario: El error ocurre porque estamos accediendo a un índice que no existe en la lista.\n"
      ],
      "metadata": {
        "colab": {
          "base_uri": "https://localhost:8080/"
        },
        "id": "XgCg9LGah11g",
        "outputId": "8bf41e47-db15-469a-ade2-a3fca5ea6b2c"
      },
      "execution_count": 27,
      "outputs": [
        {
          "output_type": "stream",
          "name": "stdout",
          "text": [
            "Contenido actual de pedido_actual: ['calamar frito', 'ceviche mixto', 'cuy asado']\n"
          ]
        }
      ]
    }
  ]
}