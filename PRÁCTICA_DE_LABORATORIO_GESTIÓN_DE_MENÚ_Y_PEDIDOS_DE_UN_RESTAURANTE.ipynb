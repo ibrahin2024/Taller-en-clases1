{
  "nbformat": 4,
  "nbformat_minor": 0,
  "metadata": {
    "colab": {
      "provenance": [],
      "authorship_tag": "ABX9TyNzVz6dBY4dTRXa1iPxNp4w",
      "include_colab_link": true
    },
    "kernelspec": {
      "name": "python3",
      "display_name": "Python 3"
    },
    "language_info": {
      "name": "python"
    }
  },
  "cells": [
    {
      "cell_type": "markdown",
      "metadata": {
        "id": "view-in-github",
        "colab_type": "text"
      },
      "source": [
        "<a href=\"https://colab.research.google.com/github/ibrahin2024/Taller-en-clases1/blob/main/PR%C3%81CTICA_DE_LABORATORIO_GESTI%C3%93N_DE_MEN%C3%9A_Y_PEDIDOS_DE_UN_RESTAURANTE.ipynb\" target=\"_parent\"><img src=\"https://colab.research.google.com/assets/colab-badge.svg\" alt=\"Open In Colab\"/></a>"
      ]
    },
    {
      "cell_type": "markdown",
      "source": [
        "# Parte 1: Definición del Menú del Restaurante"
      ],
      "metadata": {
        "id": "hpSnnNg67qDM"
      }
    },
    {
      "cell_type": "code",
      "source": [
        "#Definición del diccionario menu_restaurante\n",
        "\n",
        "menu_restaurante = {\n",
        "    \"encocado de gallina\": {\n",
        "        \"precio\": 3.50,\n",
        "        \"ingredientes\": (\"gallina\", \"leche de coco\", \"pimiento\", \"ajo\", \"culantro\")\n",
        "    },\n",
        "    \"calamar frito\": {\n",
        "        \"precio\": 3.50,\n",
        "        \"ingredientes\": (\"calamar\", \"harina\", \"limón\", \"sal\", \"aceite\")\n",
        "    },\n",
        "    \"pollo lleno\": {\n",
        "        \"precio\": 4.00,\n",
        "        \"ingredientes\": (\"pollo\", \"arroz\", \"verduras\", \"huevo\", \"salsa de soya\")\n",
        "    },\n",
        "    \"camarones apanados\": {\n",
        "        \"precio\": 7.00,\n",
        "        \"ingredientes\": (\"camarón\", \"pan rallado\", \"huevo\", \"harina\", \"limón\")\n",
        "    },\n",
        "    \"cuy asado\": {\n",
        "        \"precio\": 3.25,\n",
        "        \"ingredientes\": (\"cuy\", \"ajo\", \"comino\", \"pimienta\", \"papas\")\n",
        "    },\n",
        "    \"ceviche mixto\": {\n",
        "        \"precio\": 5.00,\n",
        "        \"ingredientes\": (\"pescado\", \"camarón\", \"limón\", \"cebolla\", \"cilantro\")\n",
        "    },\n",
        "    \"arroz marinero\": {\n",
        "        \"precio\": 4.00,\n",
        "        \"ingredientes\": (\"arroz\", \"mariscos\", \"pimiento\", \"ajo\", \"cebolla\")\n",
        "    }\n",
        "}\n"
      ],
      "metadata": {
        "id": "qW6Hr2MA7cfg"
      },
      "execution_count": 52,
      "outputs": []
    },
    {
      "cell_type": "markdown",
      "source": [
        "# Menu_restaurante"
      ],
      "metadata": {
        "id": "DSDbWMCU7v6s"
      }
    },
    {
      "cell_type": "code",
      "source": [
        "#Función para mostrar el menú de forma organizada\n",
        "\n",
        "def mostrar_menu(menu):\n",
        "    print(\"MENÚ DEL RESTAURANTE\\n\")\n",
        "    for nombre_plato, detalles in menu.items():\n",
        "        print(f\" {nombre_plato.title()}\")\n",
        "        print(f\" Precio: ${detalles['precio']:.2f}\")\n",
        "        print(f\" Ingredientes: {', '.join(detalles['ingredientes'])}\")\n",
        "        print(\"-\" * 40)\n"
      ],
      "metadata": {
        "id": "dYQXQQtm_caM"
      },
      "execution_count": 53,
      "outputs": []
    },
    {
      "cell_type": "markdown",
      "source": [
        "#Mostrar el Menú formato legible."
      ],
      "metadata": {
        "id": "5jvVnuYU96Ww"
      }
    },
    {
      "cell_type": "code",
      "source": [
        "#Función para mostrar el menú de forma organizada\n",
        "\n",
        "def mostrar_menu(menu):\n",
        "    print(\" MENÚ DEL RESTAURANTE\\n\")\n",
        "    for nombre_plato, detalles in menu.items():\n",
        "        print(f\" {nombre_plato.title()}\")\n",
        "        print(f\"    Precio: ${detalles['precio']:.2f}\")\n",
        "        print(f\"    Ingredientes: {', '.join(detalles['ingredientes'])}\")\n",
        "        print(\"-\" * 40)\n"
      ],
      "metadata": {
        "id": "LkYBcG9X99g8"
      },
      "execution_count": 54,
      "outputs": []
    },
    {
      "cell_type": "code",
      "source": [
        "#Mostrar el menú definido anteriormente usando la función\n",
        "\n",
        "mostrar_menu(menu_restaurante)\n"
      ],
      "metadata": {
        "colab": {
          "base_uri": "https://localhost:8080/"
        },
        "id": "QOlkFuGX-JBj",
        "outputId": "532e7142-703d-482e-e626-cc39af2841f1"
      },
      "execution_count": 55,
      "outputs": [
        {
          "output_type": "stream",
          "name": "stdout",
          "text": [
            " MENÚ DEL RESTAURANTE\n",
            "\n",
            " Encocado De Gallina\n",
            "    Precio: $3.50\n",
            "    Ingredientes: gallina, leche de coco, pimiento, ajo, culantro\n",
            "----------------------------------------\n",
            " Calamar Frito\n",
            "    Precio: $3.50\n",
            "    Ingredientes: calamar, harina, limón, sal, aceite\n",
            "----------------------------------------\n",
            " Pollo Lleno\n",
            "    Precio: $4.00\n",
            "    Ingredientes: pollo, arroz, verduras, huevo, salsa de soya\n",
            "----------------------------------------\n",
            " Camarones Apanados\n",
            "    Precio: $7.00\n",
            "    Ingredientes: camarón, pan rallado, huevo, harina, limón\n",
            "----------------------------------------\n",
            " Cuy Asado\n",
            "    Precio: $3.25\n",
            "    Ingredientes: cuy, ajo, comino, pimienta, papas\n",
            "----------------------------------------\n",
            " Ceviche Mixto\n",
            "    Precio: $5.00\n",
            "    Ingredientes: pescado, camarón, limón, cebolla, cilantro\n",
            "----------------------------------------\n",
            " Arroz Marinero\n",
            "    Precio: $4.00\n",
            "    Ingredientes: arroz, mariscos, pimiento, ajo, cebolla\n",
            "----------------------------------------\n"
          ]
        }
      ]
    },
    {
      "cell_type": "markdown",
      "source": [
        "# Parte 2: Simulación de Pedidos del Cliente\n"
      ],
      "metadata": {
        "id": "OzSUjXFZ-2Y0"
      }
    },
    {
      "cell_type": "code",
      "source": [
        "#Inicialización del pedido del cliente\n",
        "\n",
        "pedido_actual = []       #Lista de platos seleccionados por el cliente\n",
        "total_cuenta = 0.0       #Total a pagar, se actualizará con cada pedido\n",
        "\n",
        "#Mostrar estado inicial\n",
        "print(\"Pedido iniciado.\")\n",
        "print(\"Platos en pedido_actual:\", pedido_actual)\n",
        "print(\"Total de la cuenta: $\", total_cuenta)\n"
      ],
      "metadata": {
        "colab": {
          "base_uri": "https://localhost:8080/"
        },
        "id": "NA5NsvEY_p58",
        "outputId": "e8a24959-2b70-4301-f282-0856dceae673"
      },
      "execution_count": 56,
      "outputs": [
        {
          "output_type": "stream",
          "name": "stdout",
          "text": [
            "Pedido iniciado.\n",
            "Platos en pedido_actual: []\n",
            "Total de la cuenta: $ 0.0\n"
          ]
        }
      ]
    },
    {
      "cell_type": "markdown",
      "source": [
        "# Entrada de Platos del Cliente"
      ],
      "metadata": {
        "id": "elvheZrxANNt"
      }
    },
    {
      "cell_type": "code",
      "source": [
        "#Simulación del pedido del cliente\n",
        "\n",
        "while True:\n",
        "    plato = input(\" Ingresa el nombre del plato (o escribe 'fin' para terminar): \").lower()\n",
        "\n",
        "    if plato == 'fin':\n",
        "        print(\"\\n✅ Pedido finalizado.\\n\")\n",
        "        break\n",
        "    elif plato in menu_restaurante:\n",
        "        pedido_actual.append(plato)\n",
        "        total_cuenta += menu_restaurante[plato]['precio']\n",
        "        print(f\" ¡'{plato.title()}' añadido al pedido!\\n\")\n",
        "    else:\n",
        "        print(\"❌ Lo sentimos, ese plato no está en el menú.\\n\")\n"
      ],
      "metadata": {
        "colab": {
          "base_uri": "https://localhost:8080/"
        },
        "id": "hH5NSZ59AR5T",
        "outputId": "328ab240-45a3-4a0e-d8b7-f4bead3f44b5"
      },
      "execution_count": 57,
      "outputs": [
        {
          "output_type": "stream",
          "name": "stdout",
          "text": [
            " Ingresa el nombre del plato (o escribe 'fin' para terminar): camarones apanados\n",
            " ¡'Camarones Apanados' añadido al pedido!\n",
            "\n",
            " Ingresa el nombre del plato (o escribe 'fin' para terminar): Calamar frito\n",
            " ¡'Calamar Frito' añadido al pedido!\n",
            "\n",
            " Ingresa el nombre del plato (o escribe 'fin' para terminar): ceviche mixto\n",
            " ¡'Ceviche Mixto' añadido al pedido!\n",
            "\n",
            " Ingresa el nombre del plato (o escribe 'fin' para terminar): seco de pollo\n",
            "❌ Lo sentimos, ese plato no está en el menú.\n",
            "\n",
            " Ingresa el nombre del plato (o escribe 'fin' para terminar): helado\n",
            "❌ Lo sentimos, ese plato no está en el menú.\n",
            "\n",
            " Ingresa el nombre del plato (o escribe 'fin' para terminar): fin\n",
            "\n",
            "✅ Pedido finalizado.\n",
            "\n"
          ]
        }
      ]
    },
    {
      "cell_type": "code",
      "source": [
        "#Resumen del pedido final\n",
        "\n",
        "print(\"Pedido completo:\")\n",
        "for plato in pedido_actual:\n",
        "    print(f\" {plato.title()} - ${menu_restaurante[plato]['precio']:.2f}\")\n",
        "\n",
        "print(f\"\\nTotal de la cuenta: ${total_cuenta:.2f}\")\n"
      ],
      "metadata": {
        "colab": {
          "base_uri": "https://localhost:8080/"
        },
        "id": "Kkc096P9AUWc",
        "outputId": "e1c2de66-a621-4f94-8551-f667afa16f09"
      },
      "execution_count": 58,
      "outputs": [
        {
          "output_type": "stream",
          "name": "stdout",
          "text": [
            "Pedido completo:\n",
            " Camarones Apanados - $7.00\n",
            " Calamar Frito - $3.50\n",
            " Ceviche Mixto - $5.00\n",
            "\n",
            "Total de la cuenta: $15.50\n"
          ]
        }
      ]
    },
    {
      "cell_type": "code",
      "source": [
        "#Mostrar resumen del pedido final del cliente\n",
        "\n",
        "if pedido_actual:\n",
        "    print(\"Resumen del Pedido:\\n\")\n",
        "    for i, plato in enumerate(pedido_actual, 1):\n",
        "        precio = menu_restaurante[plato]['precio']\n",
        "        print(f\"{i}. {plato.title()} - ${precio:.2f}\")\n",
        "\n",
        "    print(f\"\\nTotal de la cuenta: ${total_cuenta:.2f}\")\n",
        "else:\n",
        "    print(\"No se realizaron pedidos.\")\n"
      ],
      "metadata": {
        "colab": {
          "base_uri": "https://localhost:8080/"
        },
        "id": "3FnhfadGB0ss",
        "outputId": "060a656c-1d7e-41f2-c442-38f925229df8"
      },
      "execution_count": 59,
      "outputs": [
        {
          "output_type": "stream",
          "name": "stdout",
          "text": [
            "Resumen del Pedido:\n",
            "\n",
            "1. Camarones Apanados - $7.00\n",
            "2. Calamar Frito - $3.50\n",
            "3. Ceviche Mixto - $5.00\n",
            "\n",
            "Total de la cuenta: $15.50\n"
          ]
        }
      ]
    }
  ]
}