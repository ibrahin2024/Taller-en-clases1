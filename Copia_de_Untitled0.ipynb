{
  "nbformat": 4,
  "nbformat_minor": 0,
  "metadata": {
    "colab": {
      "provenance": [],
      "authorship_tag": "ABX9TyNfavULpNwfi6SLNlVf5avx",
      "include_colab_link": true
    },
    "kernelspec": {
      "name": "python3",
      "display_name": "Python 3"
    },
    "language_info": {
      "name": "python"
    }
  },
  "cells": [
    {
      "cell_type": "markdown",
      "metadata": {
        "id": "view-in-github",
        "colab_type": "text"
      },
      "source": [
        "<a href=\"https://colab.research.google.com/github/ibrahin2024/Taller-en-clases1/blob/main/Copia_de_Untitled0.ipynb\" target=\"_parent\"><img src=\"https://colab.research.google.com/assets/colab-badge.svg\" alt=\"Open In Colab\"/></a>"
      ]
    },
    {
      "cell_type": "markdown",
      "source": [
        "1. Nombres de amigos"
      ],
      "metadata": {
        "id": "LWc-jXnC367k"
      }
    },
    {
      "cell_type": "code",
      "execution_count": null,
      "metadata": {
        "colab": {
          "base_uri": "https://localhost:8080/"
        },
        "id": "R57edivb2Y8U",
        "outputId": "9f5bfed8-27a9-4917-c70d-feb7fb09b873"
      },
      "outputs": [
        {
          "output_type": "stream",
          "name": "stdout",
          "text": [
            "Lista de amigos:\n",
            "Jacob\n",
            "Isabella\n",
            "Judas\n",
            "Felipeo\n"
          ]
        }
      ],
      "source": [
        "nombres = [\"Jacob\", \"Isabella\", \"Judas\", \"Felipeo\"]\n",
        "print(\"Lista de amigos:\")\n",
        "for nombre in nombres:\n",
        "    print(nombre)"
      ]
    },
    {
      "cell_type": "markdown",
      "source": [
        "2. Saludos personalizados"
      ],
      "metadata": {
        "id": "HBHN00Ul37lL"
      }
    },
    {
      "cell_type": "code",
      "source": [
        "print(\"\\nSaludos personalizados:\")\n",
        "for nombre in nombres:\n",
        "    print(f\"Hola {nombre}, ¡espero que tengas un gran día!\")\n"
      ],
      "metadata": {
        "colab": {
          "base_uri": "https://localhost:8080/"
        },
        "id": "LI5PqMtK2a5b",
        "outputId": "19d061a8-10e6-4d73-a2a5-187cb77a58eb"
      },
      "execution_count": null,
      "outputs": [
        {
          "output_type": "stream",
          "name": "stdout",
          "text": [
            "\n",
            "Saludos personalizados:\n",
            "Hola Jacob, ¡espero que tengas un gran día!\n",
            "Hola Isabella, ¡espero que tengas un gran día!\n",
            "Hola Judas, ¡espero que tengas un gran día!\n",
            "Hola Felipeo, ¡espero que tengas un gran día!\n"
          ]
        }
      ]
    },
    {
      "cell_type": "markdown",
      "source": [
        "3. Lista de medios de transporte"
      ],
      "metadata": {
        "id": "JAq8Go1h38NL"
      }
    },
    {
      "cell_type": "code",
      "source": [
        "transportes = [\"motocicleta Honda\", \"automóvil Toyota\", \"bicicleta Trek\", \"patineta eléctrica\"]\n",
        "print(\"\\nFrases sobre medios de transporte:\")\n",
        "for transporte in transportes:\n",
        "    print(f\"Me gustaría tener una {transporte}.\")"
      ],
      "metadata": {
        "colab": {
          "base_uri": "https://localhost:8080/"
        },
        "id": "Nkq9R7Rb3f_b",
        "outputId": "7835d4a8-c080-427b-d549-7cdc69d04223"
      },
      "execution_count": null,
      "outputs": [
        {
          "output_type": "stream",
          "name": "stdout",
          "text": [
            "\n",
            "Frases sobre medios de transporte:\n",
            "Me gustaría tener una motocicleta Honda.\n",
            "Me gustaría tener una automóvil Toyota.\n",
            "Me gustaría tener una bicicleta Trek.\n",
            "Me gustaría tener una patineta eléctrica.\n"
          ]
        }
      ]
    },
    {
      "cell_type": "markdown",
      "source": [
        "4. Mensajes combinados"
      ],
      "metadata": {
        "id": "Ky-pzTRI39Hr"
      }
    },
    {
      "cell_type": "code",
      "source": [
        "print(\"\\nMensajes personalizados (amigos + vehículos):\")\n",
        "for i in range(min(len(nombres), len(transportes))):\n",
        "    print(f\"Felicidades {nombres[i]}, has comprado una {transportes[i]}.\")"
      ],
      "metadata": {
        "colab": {
          "base_uri": "https://localhost:8080/"
        },
        "id": "olJqmzAM3wID",
        "outputId": "cfee1be3-5105-4b21-e9fc-cbb3d5208c41"
      },
      "execution_count": null,
      "outputs": [
        {
          "output_type": "stream",
          "name": "stdout",
          "text": [
            "\n",
            "Mensajes personalizados (amigos + vehículos):\n",
            "Felicidades Jacob, has comprado una motocicleta Honda.\n",
            "Felicidades Isabella, has comprado una automóvil Toyota.\n",
            "Felicidades Judas, has comprado una bicicleta Trek.\n",
            "Felicidades Felipeo, has comprado una patineta eléctrica.\n"
          ]
        }
      ]
    },
    {
      "cell_type": "markdown",
      "source": [
        "SEGUNDA PARTE DE LA TAREA"
      ],
      "metadata": {
        "id": "ffVR9qYM3ww7"
      }
    },
    {
      "cell_type": "markdown",
      "source": [
        "1. Lista de Invitados"
      ],
      "metadata": {
        "id": "BzR4GmEB4SDz"
      }
    },
    {
      "cell_type": "code",
      "source": [
        "invitados = [\"Selena\", \"Luisa\", \"Mariana\"]\n",
        "\n",
        "for invitado in invitados:\n",
        "    print(f\"Hola {invitado}, estás cordialmente invitado(a) a cenar esta noche.\")\n"
      ],
      "metadata": {
        "colab": {
          "base_uri": "https://localhost:8080/"
        },
        "id": "53n16TY42awS",
        "outputId": "7b62b833-ec3f-4c38-d63b-31d428a85f97"
      },
      "execution_count": null,
      "outputs": [
        {
          "output_type": "stream",
          "name": "stdout",
          "text": [
            "Hola Selena, estás cordialmente invitado(a) a cenar esta noche.\n",
            "Hola Luisa, estás cordialmente invitado(a) a cenar esta noche.\n",
            "Hola Mariana, estás cordialmente invitado(a) a cenar esta noche.\n"
          ]
        }
      ]
    },
    {
      "cell_type": "markdown",
      "source": [
        "2. Cambio en la Lista de Invitados"
      ],
      "metadata": {
        "id": "4p6N6-iN4TP0"
      }
    },
    {
      "cell_type": "code",
      "source": [
        "print(f\"\\nLamentablemente, {invitados[1]} no podrá asistir a la cena.\")\n",
        "\n",
        "invitados[1] = \"Carlos\"\n",
        "\n",
        "print(\"\\nNueva lista de invitaciones:\")\n",
        "for invitado in invitados:\n",
        "    print(f\"Hola {invitado}, estás cordialmente invitado(a) a cenar esta noche.\")"
      ],
      "metadata": {
        "colab": {
          "base_uri": "https://localhost:8080/"
        },
        "id": "LR1EF8WD2aaM",
        "outputId": "a86ba052-70f9-4a35-f769-7accaa05e0f4"
      },
      "execution_count": null,
      "outputs": [
        {
          "output_type": "stream",
          "name": "stdout",
          "text": [
            "\n",
            "Lamentablemente, Luisa no podrá asistir a la cena.\n",
            "\n",
            "Nueva lista de invitaciones:\n",
            "Hola Selena, estás cordialmente invitado(a) a cenar esta noche.\n",
            "Hola Carlos, estás cordialmente invitado(a) a cenar esta noche.\n",
            "Hola Mariana, estás cordialmente invitado(a) a cenar esta noche.\n"
          ]
        }
      ]
    },
    {
      "cell_type": "markdown",
      "source": [
        "3. Más Invitados"
      ],
      "metadata": {
        "id": "r61yLvRM4Waz"
      }
    },
    {
      "cell_type": "code",
      "source": [
        "print(\"\\n¡Buenas noticias! Encontramos una mesa más grande, así que invitaremos a más personas.\")\n",
        "\n",
        "invitados.insert(0, \"Valeria\")\n",
        "invitados.insert(2, \"Jorge\")\n",
        "invitados.append(\"Ana\")\n",
        "\n",
        "print(\"\\nLista actualizada de invitados:\")\n",
        "for invitado in invitados:\n",
        "    print(f\"Hola {invitado}, estás cordialmente invitado(a) a cenar esta noche.\")\n"
      ],
      "metadata": {
        "colab": {
          "base_uri": "https://localhost:8080/"
        },
        "id": "u673yHVY3I1L",
        "outputId": "ad0c3441-250a-41fa-d44a-fbf03de17756"
      },
      "execution_count": null,
      "outputs": [
        {
          "output_type": "stream",
          "name": "stdout",
          "text": [
            "\n",
            "¡Buenas noticias! Encontramos una mesa más grande, así que invitaremos a más personas.\n",
            "\n",
            "Lista actualizada de invitados:\n",
            "Hola Valeria, estás cordialmente invitado(a) a cenar esta noche.\n",
            "Hola Selena, estás cordialmente invitado(a) a cenar esta noche.\n",
            "Hola Jorge, estás cordialmente invitado(a) a cenar esta noche.\n",
            "Hola Carlos, estás cordialmente invitado(a) a cenar esta noche.\n",
            "Hola Mariana, estás cordialmente invitado(a) a cenar esta noche.\n",
            "Hola Ana, estás cordialmente invitado(a) a cenar esta noche.\n"
          ]
        }
      ]
    },
    {
      "cell_type": "markdown",
      "source": [
        "4. Reducción de la Lista de Invitados"
      ],
      "metadata": {
        "id": "xAsmypMz4tdT"
      }
    },
    {
      "cell_type": "code",
      "source": [
        "print(\"\\nLamentablemente, la nueva mesa solo tiene espacio para dos personas.\")\n",
        "while len(invitados) > 2:\n",
        "    eliminado = invitados.pop()\n",
        "    print(f\"Lo siento {eliminado}, no podré invitarte a cenar esta vez.\")\n",
        "print(\"\\nInvitados confirmados:\")\n",
        "for invitado in invitados:\n",
        "    print(f\"{invitado}, aún estás invitado(a) a la cena.\")\n",
        "del invitados[0]\n",
        "del invitados[0]\n",
        "print(\"\\nLista final de invitados:\", invitados)\n"
      ],
      "metadata": {
        "colab": {
          "base_uri": "https://localhost:8080/"
        },
        "id": "Hk_3btHe4tGb",
        "outputId": "3ce7912b-d0bd-46fa-c2f2-09768f67f8fb"
      },
      "execution_count": null,
      "outputs": [
        {
          "output_type": "stream",
          "name": "stdout",
          "text": [
            "\n",
            "Lamentablemente, la nueva mesa solo tiene espacio para dos personas.\n",
            "Lo siento Ana, no podré invitarte a cenar esta vez.\n",
            "Lo siento Mariana, no podré invitarte a cenar esta vez.\n",
            "Lo siento Carlos, no podré invitarte a cenar esta vez.\n",
            "Lo siento Jorge, no podré invitarte a cenar esta vez.\n",
            "\n",
            "Invitados confirmados:\n",
            "Valeria, aún estás invitado(a) a la cena.\n",
            "Selena, aún estás invitado(a) a la cena.\n",
            "\n",
            "Lista final de invitados: []\n"
          ]
        }
      ]
    }
  ]
}